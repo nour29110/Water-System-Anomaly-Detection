{
  "nbformat": 4,
  "nbformat_minor": 0,
  "metadata": {
    "colab": {
      "provenance": []
    },
    "kernelspec": {
      "name": "python3",
      "display_name": "Python 3"
    },
    "language_info": {
      "name": "python"
    }
  },
  "cells": [
    {
      "cell_type": "code",
      "execution_count": null,
      "metadata": {
        "id": "4L2VTof05l_N"
      },
      "outputs": [],
      "source": [
        "import numpy as np\n",
        "import pandas as pd\n",
        "from sklearn.preprocessing import MinMaxScaler\n",
        "from sklearn.ensemble import RandomForestClassifier\n",
        "from sklearn.model_selection import train_test_split, GridSearchCV, cross_val_score\n",
        "from sklearn.metrics import accuracy_score, precision_score, recall_score, f1_score, classification_report\n",
        "import matplotlib.pyplot as plt\n",
        "import seaborn as sns\n",
        "from sklearn.metrics import confusion_matrix\n",
        "\n",
        "# Load datasets\n",
        "dataframe_train = pd.read_csv('BATADAL_dataset04.csv')\n",
        "dataframe_test = pd.read_csv('BATADAL_test_dataset.csv')"
      ]
    },
    {
      "cell_type": "code",
      "source": [
        "def preprocess_data(dataframe, label_column_index):\n",
        "    datetime_column = dataframe.iloc[:, 0]  # the first column is datetime\n",
        "    dataframe = dataframe.drop(dataframe.columns[0], axis=1)\n",
        "\n",
        "    # Replace -999 with 0\n",
        "    dataframe = dataframe.replace(-999, 0)\n",
        "\n",
        "    # Separate features and labels\n",
        "    data = dataframe.drop(dataframe.columns[label_column_index], axis=1)\n",
        "    labels = dataframe.iloc[:, label_column_index].astype(int)\n",
        "\n",
        "    # Normalize features\n",
        "    scaler = MinMaxScaler()\n",
        "    normalized_data = scaler.fit_transform(data)\n",
        "\n",
        "    return datetime_column, normalized_data, labels\n",
        "\n",
        "# Preprocess datasets\n",
        "_, train_data, train_labels = preprocess_data(dataframe_train, -1)\n",
        "_, test_data, test_labels = preprocess_data(dataframe_test, -1)"
      ],
      "metadata": {
        "id": "c9Fs6Po153po"
      },
      "execution_count": null,
      "outputs": []
    },
    {
      "cell_type": "code",
      "source": [
        "# Train Test Split\n",
        "X_train, X_val, y_train, y_val = train_test_split(train_data, train_labels, test_size=0.2, random_state=42)"
      ],
      "metadata": {
        "id": "pmDl-0_9Aj-u"
      },
      "execution_count": null,
      "outputs": []
    },
    {
      "cell_type": "code",
      "source": [
        "# Hyperparameter Tuning with GridSearchCV for Random Forest\n",
        "\n",
        "param_grid = {\n",
        "    'n_estimators': [50, 100, 200],  # Number of trees in the forest\n",
        "    'max_depth': [10, 20, 30, None],  # Maximum depth of each tree\n",
        "    'min_samples_split': [2, 5, 10],  # Minimum samples required to split a node\n",
        "    'class_weight': ['balanced', None]  # To handle imbalanced classes\n",
        "}\n",
        "\n",
        "# GridSearchCV for RandomForest\n",
        "grid_search = GridSearchCV(RandomForestClassifier(), param_grid, cv=5, scoring='accuracy')\n",
        "grid_search.fit(X_train, y_train)\n",
        "\n",
        "# Best parameters from GridSearchCV\n",
        "print(\"\\nBest parameters from GridSearchCV:\")\n",
        "print(grid_search.best_params_)\n",
        "\n",
        "best_rf_model = grid_search.best_estimator_"
      ],
      "metadata": {
        "colab": {
          "base_uri": "https://localhost:8080/"
        },
        "id": "vRAG4Ah1ApWK",
        "outputId": "86be8c7e-1c42-4a74-a50c-0ecc526b2e45"
      },
      "execution_count": null,
      "outputs": [
        {
          "output_type": "stream",
          "name": "stdout",
          "text": [
            "\n",
            "Best parameters from GridSearchCV:\n",
            "{'class_weight': None, 'max_depth': 30, 'min_samples_split': 2, 'n_estimators': 200}\n"
          ]
        }
      ]
    },
    {
      "cell_type": "code",
      "source": [
        "val_predictions = best_rf_model.predict(X_val)\n",
        "print(\"\\nValidation Set Metrics:\")\n",
        "print(\"Accuracy:\", accuracy_score(y_val, val_predictions))\n",
        "print(\"Precision:\", precision_score(y_val, val_predictions))\n",
        "print(\"Recall:\", recall_score(y_val, val_predictions))\n",
        "print(\"F1 Score:\", f1_score(y_val, val_predictions))\n",
        "print(\"\\nClassification Report (Validation Set):\")\n",
        "print(classification_report(y_val, val_predictions))"
      ],
      "metadata": {
        "colab": {
          "base_uri": "https://localhost:8080/"
        },
        "id": "CXf0a5sOCoPX",
        "outputId": "bd865f91-9902-4aaa-a915-962cdc048924"
      },
      "execution_count": null,
      "outputs": [
        {
          "output_type": "stream",
          "name": "stdout",
          "text": [
            "\n",
            "Validation Set Metrics:\n",
            "Accuracy: 0.9736842105263158\n",
            "Precision: 0.875\n",
            "Recall: 0.525\n",
            "F1 Score: 0.65625\n",
            "\n",
            "Classification Report (Validation Set):\n",
            "              precision    recall  f1-score   support\n",
            "\n",
            "           0       0.98      1.00      0.99       796\n",
            "           1       0.88      0.53      0.66        40\n",
            "\n",
            "    accuracy                           0.97       836\n",
            "   macro avg       0.93      0.76      0.82       836\n",
            "weighted avg       0.97      0.97      0.97       836\n",
            "\n"
          ]
        }
      ]
    },
    {
      "cell_type": "code",
      "source": [
        "cross_val_scores = cross_val_score(best_rf_model, train_data, train_labels, cv=5)\n",
        "print(\"\\nCross-validation scores on the training set:\")\n",
        "print(\"Accuracy per fold:\", cross_val_scores)\n",
        "print(\"Mean cross-validation accuracy:\", np.mean(cross_val_scores))"
      ],
      "metadata": {
        "colab": {
          "base_uri": "https://localhost:8080/"
        },
        "id": "cQij9TsGCuTl",
        "outputId": "07889e3a-5091-4018-e5b3-4bbaf4908a78"
      },
      "execution_count": null,
      "outputs": [
        {
          "output_type": "stream",
          "name": "stdout",
          "text": [
            "\n",
            "Cross-validation scores on the training set:\n",
            "Accuracy per fold: [0.9437799  0.94856459 0.94730539 0.96646707 0.96287425]\n",
            "Mean cross-validation accuracy: 0.9537982408388963\n"
          ]
        }
      ]
    },
    {
      "cell_type": "code",
      "source": [
        "best_rf_model.fit(train_data, train_labels)\n",
        "test_predictions = best_rf_model.predict(test_data)\n",
        "\n",
        "print(\"\\nTest Set Metrics:\")\n",
        "print(\"Accuracy:\", accuracy_score(test_labels, test_predictions))\n",
        "print(\"Precision:\", precision_score(test_labels, test_predictions))\n",
        "print(\"Recall:\", recall_score(test_labels, test_predictions))\n",
        "print(\"F1 Score:\", f1_score(test_labels, test_predictions))\n",
        "print(\"\\nClassification Report (Test Set):\")\n",
        "print(classification_report(test_labels, test_predictions))"
      ],
      "metadata": {
        "colab": {
          "base_uri": "https://localhost:8080/"
        },
        "id": "snOGgsHwDEtg",
        "outputId": "fb7eb90e-5a2e-4d02-97ec-29b531290065"
      },
      "execution_count": null,
      "outputs": [
        {
          "output_type": "stream",
          "name": "stdout",
          "text": [
            "\n",
            "Test Set Metrics:\n",
            "Accuracy: 0.48635710866443277\n",
            "Precision: 0.18346007604562736\n",
            "Recall: 0.4742014742014742\n",
            "F1 Score: 0.26456477039067855\n",
            "\n",
            "Classification Report (Test Set):\n",
            "              precision    recall  f1-score   support\n",
            "\n",
            "           0       0.79      0.49      0.61      1682\n",
            "           1       0.18      0.47      0.26       407\n",
            "\n",
            "    accuracy                           0.49      2089\n",
            "   macro avg       0.49      0.48      0.43      2089\n",
            "weighted avg       0.67      0.49      0.54      2089\n",
            "\n"
          ]
        }
      ]
    },
    {
      "cell_type": "code",
      "source": [
        "conf_matrix = confusion_matrix(test_labels, test_predictions)\n",
        "plt.figure(figsize=(6, 6))\n",
        "sns.heatmap(conf_matrix, annot=True, fmt='d', cmap='Blues', xticklabels=['Negative', 'Positive'], yticklabels=['Negative', 'Positive'])\n",
        "plt.title(\"Confusion Matrix (Test Set)\")\n",
        "plt.xlabel('Predicted')\n",
        "plt.ylabel('True')\n",
        "plt.show()"
      ],
      "metadata": {
        "colab": {
          "base_uri": "https://localhost:8080/",
          "height": 564
        },
        "id": "OUdWXo-DDPGl",
        "outputId": "828be910-2948-4d08-b168-cf74aee4497c"
      },
      "execution_count": null,
      "outputs": [
        {
          "output_type": "display_data",
          "data": {
            "text/plain": [
              "<Figure size 600x600 with 2 Axes>"
            ],
            "image/png": "[encoded data removed]"
          },
          "metadata": {}
        }
      ]
    }
  ]
}