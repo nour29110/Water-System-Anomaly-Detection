{
  "nbformat": 4,
  "nbformat_minor": 0,
  "metadata": {
    "colab": {
      "provenance": []
    },
    "kernelspec": {
      "name": "python3",
      "display_name": "Python 3"
    },
    "language_info": {
      "name": "python"
    }
  },
  "cells": [
    {
      "cell_type": "code",
      "source": [
        "import numpy as np\n",
        "import pandas as pd\n",
        "import tensorflow as tf\n",
        "from sklearn.metrics import accuracy_score, precision_score, recall_score, f1_score, precision_recall_curve\n",
        "from tensorflow.keras import layers\n",
        "from tensorflow.keras.optimizers import Adam\n",
        "from tensorflow.keras.callbacks import EarlyStopping, LearningRateScheduler\n",
        "from imblearn.over_sampling import SMOTE\n",
        "import matplotlib.pyplot as plt\n",
        "\n",
        "# Load datasets\n",
        "dataframe_train = pd.read_csv('BATADAL_dataset04.csv')\n",
        "dataframe_test = pd.read_csv('BATADAL_test_dataset.csv')\n",
        "\n",
        "# Replace -999 with 0 in the datasets\n",
        "dataframe_train.replace(-999, 0, inplace=True)\n",
        "dataframe_test.replace(-999, 0, inplace=True)\n",
        "\n",
        "# Preprocess training data\n",
        "train_data = dataframe_train.drop(dataframe_train.columns[[0, -1]], axis=1)  # Remove date and label columns\n",
        "train_labels = dataframe_train.iloc[:, -1].astype(bool)  # Convert labels to boolean\n",
        "\n",
        "# Preprocess testing data\n",
        "test_data = dataframe_test.drop(dataframe_test.columns[[0, -1]], axis=1)  # Remove date and label columns\n",
        "test_labels = dataframe_test.iloc[:, -1].astype(bool)  # Convert labels to boolean\n",
        "\n",
        "# Normalize data using training dataset stats\n",
        "min_val = train_data.min().min()\n",
        "max_val = train_data.max().max()\n",
        "\n",
        "train_data = (train_data - min_val) / (max_val - min_val)\n",
        "test_data = (test_data - min_val) / (max_val - min_val)\n",
        "\n",
        "# Reshape data to 2D format (height=1, width=num_features, channels=1) for CNN\n",
        "train_data = np.reshape(train_data.values, (-1, train_data.shape[1], 1))\n",
        "test_data = np.reshape(test_data.values, (-1, test_data.shape[1], 1))\n",
        "\n",
        "# Handle imbalanced data using SMOTE\n",
        "smote = SMOTE()\n",
        "train_data_reshaped = train_data.reshape(train_data.shape[0], -1)\n",
        "train_data_resampled, train_labels_resampled = smote.fit_resample(train_data_reshaped, train_labels)\n",
        "train_data_resampled = train_data_resampled.reshape(-1, train_data.shape[1], 1)\n",
        "\n",
        "# CNN model for classification\n",
        "class AnomalyDetectorCNN(tf.keras.Model):\n",
        "    def __init__(self):\n",
        "        super(AnomalyDetectorCNN, self).__init__()\n",
        "        self.conv1 = layers.Conv1D(32, 3, activation='relu', padding='same', kernel_initializer='he_normal', input_shape=(train_data.shape[1], 1))\n",
        "        self.pool1 = layers.MaxPooling1D(2, padding='same')\n",
        "        self.dropout1 = layers.Dropout(0.5)\n",
        "\n",
        "        self.conv2 = layers.Conv1D(64, 3, activation='relu', padding='same', kernel_initializer='he_normal')\n",
        "        self.pool2 = layers.MaxPooling1D(2, padding='same')\n",
        "        self.dropout2 = layers.Dropout(0.5)\n",
        "\n",
        "        self.conv3 = layers.Conv1D(128, 3, activation='relu', padding='same', kernel_initializer='he_normal')\n",
        "        self.pool3 = layers.MaxPooling1D(2, padding='same')\n",
        "        self.dropout3 = layers.Dropout(0.5)\n",
        "\n",
        "        self.global_pool = layers.GlobalAveragePooling1D()\n",
        "        self.dense1 = layers.Dense(128, activation='relu', kernel_initializer='he_normal')\n",
        "        self.dropout4 = layers.Dropout(0.5)\n",
        "        self.dense2 = layers.Dense(1, activation='sigmoid')\n",
        "\n",
        "    def call(self, x):\n",
        "        x = self.conv1(x)\n",
        "        x = self.pool1(x)\n",
        "        x = self.dropout1(x)\n",
        "        x = self.conv2(x)\n",
        "        x = self.pool2(x)\n",
        "        x = self.dropout2(x)\n",
        "        x = self.conv3(x)\n",
        "        x = self.pool3(x)\n",
        "        x = self.dropout3(x)\n",
        "        x = self.global_pool(x)\n",
        "        x = self.dense1(x)\n",
        "        x = self.dropout4(x)\n",
        "        x = self.dense2(x)\n",
        "        return x\n",
        "\n",
        "# Instantiate and compile the CNN model\n",
        "custom_learning_rate = 0.0001  # Custom learning rate to avoid overfitting\n",
        "optimizer = Adam(learning_rate=custom_learning_rate)\n",
        "cnn_model = AnomalyDetectorCNN()\n",
        "cnn_model.compile(optimizer=optimizer, loss='binary_crossentropy', metrics=['accuracy'])\n",
        "\n",
        "# Learning rate scheduler\n",
        "def lr_scheduler(epoch, lr):\n",
        "    if epoch % 5 == 0 and epoch != 0:\n",
        "        lr = lr * 0.1\n",
        "    return lr\n",
        "\n",
        "lr_scheduler_callback = LearningRateScheduler(lr_scheduler)\n",
        "\n",
        "# Early stopping\n",
        "early_stopping = EarlyStopping(monitor='val_loss', patience=10, restore_best_weights=True)\n",
        "\n",
        "# Train the CNN model on the training data\n",
        "history = cnn_model.fit(\n",
        "    train_data_resampled, train_labels_resampled,\n",
        "    epochs=20,\n",
        "    batch_size=512,\n",
        "    validation_data=(test_data, test_labels),\n",
        "    shuffle=True,\n",
        "    callbacks=[early_stopping, lr_scheduler_callback]\n",
        ")\n",
        "\n",
        "# Plot training and validation loss\n",
        "plt.plot(history.history[\"loss\"], label=\"Training Loss\")\n",
        "plt.plot(history.history[\"val_loss\"], label=\"Validation Loss\")\n",
        "plt.legend()\n",
        "plt.show()\n",
        "\n",
        "# Make predictions on the entire test dataset\n",
        "test_predictions = cnn_model.predict(test_data)\n",
        "\n",
        "# Find optimal threshold using Precision-Recall curve\n",
        "precision, recall, thresholds = precision_recall_curve(test_labels, test_predictions)\n",
        "f1_scores = 2 * (precision * recall) / (precision + recall)\n",
        "optimal_idx = np.argmax(f1_scores)\n",
        "optimal_threshold = thresholds[optimal_idx]\n",
        "test_predictions = (test_predictions > optimal_threshold).astype(int)\n",
        "\n",
        "# Evaluate metrics\n",
        "def print_stats(predictions, labels):\n",
        "    print(\"Accuracy:\", accuracy_score(labels, predictions))\n",
        "    print(\"Precision:\", precision_score(labels, predictions))\n",
        "    print(\"Recall:\", recall_score(labels, predictions))\n",
        "    print(\"F1 Score:\", f1_score(labels, predictions))\n",
        "\n",
        "# Print the evaluation metrics\n",
        "print_stats(test_predictions, test_labels)"
      ],
      "metadata": {
        "colab": {
          "base_uri": "https://localhost:8080/",
          "height": 968
        },
        "id": "XOUa2cLV_Ky3",
        "outputId": "86b0b2f0-44e1-4b9c-c9fd-45358638dc5e"
      },
      "execution_count": 11,
      "outputs": [
        {
          "output_type": "stream",
          "name": "stdout",
          "text": [
            "Epoch 1/20\n"
          ]
        },
        {
          "output_type": "stream",
          "name": "stderr",
          "text": [
            "/usr/local/lib/python3.11/dist-packages/keras/src/layers/convolutional/base_conv.py:107: UserWarning: Do not pass an `input_shape`/`input_dim` argument to a layer. When using Sequential models, prefer using an `Input(shape)` object as the first layer in the model instead.\n",
            "  super().__init__(activity_regularizer=activity_regularizer, **kwargs)\n"
          ]
        },
        {
          "output_type": "stream",
          "name": "stdout",
          "text": [
            "\u001b[1m16/16\u001b[0m \u001b[32m━━━━━━━━━━━━━━━━━━━━\u001b[0m\u001b[37m\u001b[0m \u001b[1m5s\u001b[0m 131ms/step - accuracy: 0.4996 - loss: 0.7115 - val_accuracy: 0.8052 - val_loss: 0.6393 - learning_rate: 1.0000e-04\n",
            "Epoch 2/20\n",
            "\u001b[1m16/16\u001b[0m \u001b[32m━━━━━━━━━━━━━━━━━━━━\u001b[0m\u001b[37m\u001b[0m \u001b[1m2s\u001b[0m 126ms/step - accuracy: 0.5165 - loss: 0.6918 - val_accuracy: 0.2283 - val_loss: 0.7137 - learning_rate: 1.0000e-04\n",
            "Epoch 3/20\n",
            "\u001b[1m16/16\u001b[0m \u001b[32m━━━━━━━━━━━━━━━━━━━━\u001b[0m\u001b[37m\u001b[0m \u001b[1m2s\u001b[0m 73ms/step - accuracy: 0.5868 - loss: 0.6868 - val_accuracy: 0.6587 - val_loss: 0.6831 - learning_rate: 1.0000e-04\n",
            "Epoch 4/20\n",
            "\u001b[1m16/16\u001b[0m \u001b[32m━━━━━━━━━━━━━━━━━━━━\u001b[0m\u001b[37m\u001b[0m \u001b[1m1s\u001b[0m 70ms/step - accuracy: 0.6239 - loss: 0.6839 - val_accuracy: 0.6841 - val_loss: 0.6772 - learning_rate: 1.0000e-04\n",
            "Epoch 5/20\n",
            "\u001b[1m16/16\u001b[0m \u001b[32m━━━━━━━━━━━━━━━━━━━━\u001b[0m\u001b[37m\u001b[0m \u001b[1m1s\u001b[0m 74ms/step - accuracy: 0.6522 - loss: 0.6814 - val_accuracy: 0.5945 - val_loss: 0.6834 - learning_rate: 1.0000e-04\n",
            "Epoch 6/20\n",
            "\u001b[1m16/16\u001b[0m \u001b[32m━━━━━━━━━━━━━━━━━━━━\u001b[0m\u001b[37m\u001b[0m \u001b[1m1s\u001b[0m 71ms/step - accuracy: 0.6503 - loss: 0.6794 - val_accuracy: 0.5912 - val_loss: 0.6836 - learning_rate: 1.0000e-05\n",
            "Epoch 7/20\n",
            "\u001b[1m16/16\u001b[0m \u001b[32m━━━━━━━━━━━━━━━━━━━━\u001b[0m\u001b[37m\u001b[0m \u001b[1m1s\u001b[0m 86ms/step - accuracy: 0.6475 - loss: 0.6794 - val_accuracy: 0.5840 - val_loss: 0.6840 - learning_rate: 1.0000e-05\n",
            "Epoch 8/20\n",
            "\u001b[1m16/16\u001b[0m \u001b[32m━━━━━━━━━━━━━━━━━━━━\u001b[0m\u001b[37m\u001b[0m \u001b[1m2s\u001b[0m 81ms/step - accuracy: 0.6573 - loss: 0.6787 - val_accuracy: 0.5649 - val_loss: 0.6863 - learning_rate: 1.0000e-05\n",
            "Epoch 9/20\n",
            "\u001b[1m16/16\u001b[0m \u001b[32m━━━━━━━━━━━━━━━━━━━━\u001b[0m\u001b[37m\u001b[0m \u001b[1m3s\u001b[0m 138ms/step - accuracy: 0.6542 - loss: 0.6786 - val_accuracy: 0.5854 - val_loss: 0.6838 - learning_rate: 1.0000e-05\n",
            "Epoch 10/20\n",
            "\u001b[1m16/16\u001b[0m \u001b[32m━━━━━━━━━━━━━━━━━━━━\u001b[0m\u001b[37m\u001b[0m \u001b[1m2s\u001b[0m 118ms/step - accuracy: 0.6562 - loss: 0.6782 - val_accuracy: 0.5826 - val_loss: 0.6841 - learning_rate: 1.0000e-05\n",
            "Epoch 11/20\n",
            "\u001b[1m16/16\u001b[0m \u001b[32m━━━━━━━━━━━━━━━━━━━━\u001b[0m\u001b[37m\u001b[0m \u001b[1m2s\u001b[0m 86ms/step - accuracy: 0.6601 - loss: 0.6782 - val_accuracy: 0.5826 - val_loss: 0.6841 - learning_rate: 1.0000e-06\n"
          ]
        },
        {
          "output_type": "display_data",
          "data": {
            "text/plain": [
              "<Figure size 640x480 with 1 Axes>"
            ],
            "image/png": "[encoded data removed]"
          },
          "metadata": {}
        },
        {
          "output_type": "stream",
          "name": "stdout",
          "text": [
            "\u001b[1m66/66\u001b[0m \u001b[32m━━━━━━━━━━━━━━━━━━━━\u001b[0m\u001b[37m\u001b[0m \u001b[1m1s\u001b[0m 6ms/step\n",
            "Accuracy: 0.41790330301579703\n",
            "Precision: 0.21693491952414276\n",
            "Recall: 0.7616707616707616\n",
            "F1 Score: 0.33769063180827885\n"
          ]
        }
      ]
    }
  ]
}