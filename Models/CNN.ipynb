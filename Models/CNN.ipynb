{
  "nbformat": 4,
  "nbformat_minor": 0,
  "metadata": {
    "colab": {
      "provenance": []
    },
    "kernelspec": {
      "name": "python3",
      "display_name": "Python 3"
    },
    "language_info": {
      "name": "python"
    }
  },
  "cells": [
    {
      "cell_type": "code",
      "execution_count": null,
      "metadata": {
        "id": "Mk-P96ZYAI_Q"
      },
      "outputs": [],
      "source": [
        "import numpy as np\n",
        "import pandas as pd\n",
        "import tensorflow as tf\n",
        "from sklearn.metrics import accuracy_score, precision_score, recall_score, f1_score\n",
        "from tensorflow.keras import layers\n",
        "import matplotlib.pyplot as plt\n",
        "from tensorflow.keras.optimizers import Adam\n",
        "from tensorflow.keras.callbacks import EarlyStopping\n",
        "\n",
        "# Load datasets\n",
        "dataframe_train = pd.read_csv('BATADAL_dataset04.csv')\n",
        "dataframe_test = pd.read_csv('BATADAL_test_dataset.csv')\n",
        "\n",
        "# Preprocess training data\n",
        "train_data = dataframe_train.drop(dataframe_train.columns[[0, -1]], axis=1)  # Remove date and label columns\n",
        "train_labels = dataframe_train.iloc[:, -1].astype(bool)  # Convert labels to boolean\n",
        "\n",
        "# Preprocess testing data\n",
        "test_data = dataframe_test.drop(dataframe_test.columns[[0, -1]], axis=1)  # Remove date and label columns\n",
        "test_labels = dataframe_test.iloc[:, -1].astype(bool)  # Convert labels to boolean\n",
        "\n",
        "# Normalize data using training dataset stats\n",
        "min_val = train_data.min().min()\n",
        "max_val = train_data.max().max()\n",
        "\n",
        "train_data = (train_data - min_val) / (max_val - min_val)\n",
        "test_data = (test_data - min_val) / (max_val - min_val)\n",
        "\n",
        "# Reshape data to 2D format (height=1, width=num_features, channels=1) for CNN\n",
        "train_data = np.reshape(train_data.values, (-1, train_data.shape[1], 1))\n",
        "test_data = np.reshape(test_data.values, (-1, test_data.shape[1], 1))"
      ]
    },
    {
      "cell_type": "code",
      "source": [
        "# CNN model for classification\n",
        "class AnomalyDetectorCNN(tf.keras.Model):\n",
        "    def __init__(self):\n",
        "        super(AnomalyDetectorCNN, self).__init__()\n",
        "        self.conv1 = layers.Conv1D(32, 3, activation='relu', padding='same', input_shape=(train_data.shape[1], 1))\n",
        "        self.pool1 = layers.MaxPooling1D(2, padding='same')\n",
        "\n",
        "        self.conv2 = layers.Conv1D(64, 3, activation='relu', padding='same')\n",
        "        self.pool2 = layers.MaxPooling1D(2, padding='same')\n",
        "\n",
        "        self.conv3 = layers.Conv1D(128, 3, activation='relu', padding='same')\n",
        "        self.pool3 = layers.MaxPooling1D(2, padding='same')\n",
        "\n",
        "        self.flatten = layers.Flatten()\n",
        "        self.dense1 = layers.Dense(128, activation='relu')\n",
        "        self.dense2 = layers.Dense(1, activation='sigmoid')\n",
        "\n",
        "    def call(self, x):\n",
        "        x = self.conv1(x)\n",
        "        x = self.pool1(x)\n",
        "        x = self.conv2(x)\n",
        "        x = self.pool2(x)\n",
        "        x = self.conv3(x)\n",
        "        x = self.pool3(x)\n",
        "        x = self.flatten(x)\n",
        "        x = self.dense1(x)\n",
        "        x = self.dense2(x)\n",
        "        return x\n",
        "\n",
        "# Instantiate and compile the CNN model\n",
        "custom_learning_rate = 0.0001 # custom learning rate to lower learning rate to avoid overfitting\n",
        "optimizer = Adam(learning_rate=custom_learning_rate)\n",
        "cnn_model = AnomalyDetectorCNN()\n",
        "cnn_model.compile(optimizer=optimizer, loss='binary_crossentropy', metrics=['accuracy'])\n",
        "\n",
        "# Define the EarlyStopping callback\n",
        "early_stopping = EarlyStopping(monitor='val_loss', patience=10, restore_best_weights=True)\n",
        "\n",
        "# Train the CNN model on the training data\n",
        "history = cnn_model.fit(\n",
        "    train_data, train_labels,\n",
        "    epochs=20,\n",
        "    batch_size=512,\n",
        "    validation_data=(test_data, test_labels),\n",
        "    shuffle=True,\n",
        "    callbacks=[early_stopping] # Pass the callback to the fit method\n",
        ")\n",
        "\n",
        "# Plot training and validation loss\n",
        "plt.plot(history.history[\"loss\"], label=\"Training Loss\")\n",
        "plt.plot(history.history[\"val_loss\"], label=\"Validation Loss\")\n",
        "plt.legend()\n",
        "plt.show()"
      ],
      "metadata": {
        "colab": {
          "base_uri": "https://localhost:8080/",
          "height": 879
        },
        "id": "_eEPDR47n_un",
        "outputId": "69da968a-6f7c-4f8a-80cb-67a5789aab46"
      },
      "execution_count": null,
      "outputs": [
        {
          "output_type": "stream",
          "name": "stdout",
          "text": [
            "Epoch 1/20\n"
          ]
        },
        {
          "output_type": "stream",
          "name": "stderr",
          "text": [
            "/usr/local/lib/python3.10/dist-packages/keras/src/layers/convolutional/base_conv.py:107: UserWarning: Do not pass an `input_shape`/`input_dim` argument to a layer. When using Sequential models, prefer using an `Input(shape)` object as the first layer in the model instead.\n",
            "  super().__init__(activity_regularizer=activity_regularizer, **kwargs)\n"
          ]
        },
        {
          "output_type": "stream",
          "name": "stdout",
          "text": [
            "\u001b[1m13/13\u001b[0m \u001b[32m━━━━━━━━━━━━━━━━━━━━\u001b[0m\u001b[37m\u001b[0m \u001b[1m3s\u001b[0m 119ms/step - accuracy: 0.7101 - loss: 0.6750 - val_accuracy: 0.1948 - val_loss: 0.7600\n",
            "Epoch 2/20\n",
            "\u001b[1m13/13\u001b[0m \u001b[32m━━━━━━━━━━━━━━━━━━━━\u001b[0m\u001b[37m\u001b[0m \u001b[1m2s\u001b[0m 79ms/step - accuracy: 1.0000 - loss: 0.5734 - val_accuracy: 0.1948 - val_loss: 0.8563\n",
            "Epoch 3/20\n",
            "\u001b[1m13/13\u001b[0m \u001b[32m━━━━━━━━━━━━━━━━━━━━\u001b[0m\u001b[37m\u001b[0m \u001b[1m1s\u001b[0m 76ms/step - accuracy: 1.0000 - loss: 0.4630 - val_accuracy: 0.1948 - val_loss: 1.0329\n",
            "Epoch 4/20\n",
            "\u001b[1m13/13\u001b[0m \u001b[32m━━━━━━━━━━━━━━━━━━━━\u001b[0m\u001b[37m\u001b[0m \u001b[1m1s\u001b[0m 110ms/step - accuracy: 1.0000 - loss: 0.3261 - val_accuracy: 0.1948 - val_loss: 1.3654\n",
            "Epoch 5/20\n",
            "\u001b[1m13/13\u001b[0m \u001b[32m━━━━━━━━━━━━━━━━━━━━\u001b[0m\u001b[37m\u001b[0m \u001b[1m2s\u001b[0m 91ms/step - accuracy: 1.0000 - loss: 0.1845 - val_accuracy: 0.1948 - val_loss: 1.9103\n",
            "Epoch 6/20\n",
            "\u001b[1m13/13\u001b[0m \u001b[32m━━━━━━━━━━━━━━━━━━━━\u001b[0m\u001b[37m\u001b[0m \u001b[1m1s\u001b[0m 77ms/step - accuracy: 1.0000 - loss: 0.0842 - val_accuracy: 0.1948 - val_loss: 2.5756\n",
            "Epoch 7/20\n",
            "\u001b[1m13/13\u001b[0m \u001b[32m━━━━━━━━━━━━━━━━━━━━\u001b[0m\u001b[37m\u001b[0m \u001b[1m1s\u001b[0m 78ms/step - accuracy: 1.0000 - loss: 0.0361 - val_accuracy: 0.1948 - val_loss: 3.1954\n",
            "Epoch 8/20\n",
            "\u001b[1m13/13\u001b[0m \u001b[32m━━━━━━━━━━━━━━━━━━━━\u001b[0m\u001b[37m\u001b[0m \u001b[1m1s\u001b[0m 78ms/step - accuracy: 1.0000 - loss: 0.0171 - val_accuracy: 0.1948 - val_loss: 3.6975\n",
            "Epoch 9/20\n",
            "\u001b[1m13/13\u001b[0m \u001b[32m━━━━━━━━━━━━━━━━━━━━\u001b[0m\u001b[37m\u001b[0m \u001b[1m1s\u001b[0m 77ms/step - accuracy: 1.0000 - loss: 0.0094 - val_accuracy: 0.1948 - val_loss: 4.0965\n",
            "Epoch 10/20\n",
            "\u001b[1m13/13\u001b[0m \u001b[32m━━━━━━━━━━━━━━━━━━━━\u001b[0m\u001b[37m\u001b[0m \u001b[1m1s\u001b[0m 78ms/step - accuracy: 1.0000 - loss: 0.0059 - val_accuracy: 0.1948 - val_loss: 4.4303\n",
            "Epoch 11/20\n",
            "\u001b[1m13/13\u001b[0m \u001b[32m━━━━━━━━━━━━━━━━━━━━\u001b[0m\u001b[37m\u001b[0m \u001b[1m1s\u001b[0m 77ms/step - accuracy: 1.0000 - loss: 0.0040 - val_accuracy: 0.1948 - val_loss: 4.7227\n"
          ]
        },
        {
          "output_type": "display_data",
          "data": {
            "text/plain": [
              "<Figure size 640x480 with 1 Axes>"
            ],
            "image/png": "[encoded data removed]"
          },
          "metadata": {}
        }
      ]
    },
    {
      "cell_type": "code",
      "source": [
        "_# Make predictions on the entire test dataset\n",
        "test_predictions = cnn_model.predict(test_data)\n",
        "test_predictions = (test_predictions > 0.5).astype(int)\n",
        "\n",
        "# Evaluate metrics\n",
        "def print_stats(predictions, labels):\n",
        "    print(\"Accuracy:\", accuracy_score(labels, predictions))\n",
        "    print(\"Precision:\", precision_score(labels, predictions))\n",
        "    print(\"Recall:\", recall_score(labels, predictions))\n",
        "    print(\"F1 Score:\", f1_score(labels, predictions))\n",
        "\n",
        "# Print the evaluation metrics\n",
        "print_stats(test_predictions, test_labels)"
      ],
      "metadata": {
        "colab": {
          "base_uri": "https://localhost:8080/"
        },
        "id": "bj-rCVmxoEL_",
        "outputId": "49960e77-7211-4449-cb45-3d14bce7bff8"
      },
      "execution_count": null,
      "outputs": [
        {
          "output_type": "stream",
          "name": "stdout",
          "text": [
            "\u001b[1m66/66\u001b[0m \u001b[32m━━━━━━━━━━━━━━━━━━━━\u001b[0m\u001b[37m\u001b[0m \u001b[1m0s\u001b[0m 5ms/step\n",
            "Accuracy: 0.1948300622307324\n",
            "Precision: 0.1948300622307324\n",
            "Recall: 1.0\n",
            "F1 Score: 0.3261217948717949\n"
          ]
        }
      ]
    }
  ]
}